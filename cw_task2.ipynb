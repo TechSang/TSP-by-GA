{
 "cells": [
  {
   "cell_type": "code",
   "execution_count": 12,
   "metadata": {},
   "outputs": [],
   "source": [
    "import scipy.io as sio\n",
    "import numpy as np\n",
    "import random\n",
    "import matplotlib.pyplot as plt"
   ]
  },
  {
   "cell_type": "code",
   "execution_count": 13,
   "metadata": {},
   "outputs": [],
   "source": [
    "#load\n",
    "data = sio.loadmat('H:/Jupyter_Notebook_Workspace/AI_cw/xy.mat')"
   ]
  },
  {
   "cell_type": "code",
   "execution_count": 14,
   "metadata": {},
   "outputs": [
    {
     "data": {
      "text/plain": [
       "numpy.ndarray"
      ]
     },
     "execution_count": 14,
     "metadata": {},
     "output_type": "execute_result"
    }
   ],
   "source": [
    "type(data['xy'])"
   ]
  },
  {
   "cell_type": "markdown",
   "metadata": {},
   "source": [
    "# GA Part"
   ]
  },
  {
   "cell_type": "code",
   "execution_count": 15,
   "metadata": {},
   "outputs": [
    {
     "data": {
      "text/plain": [
       "array([0.46153846, 0.80769231, 1.        ])"
      ]
     },
     "execution_count": 15,
     "metadata": {},
     "output_type": "execute_result"
    }
   ],
   "source": [
    "a=[[3,9],[4,5],[2,3]]\n",
    "b=np.sum(a,axis=1)\n",
    "c=b/sum(b)\n",
    "c.cumsum()"
   ]
  },
  {
   "cell_type": "code",
   "execution_count": 16,
   "metadata": {},
   "outputs": [],
   "source": [
    "class GA(object):\n",
    "    def __init__(self,data,selectType,crossType,mutateType,populationNum,populationSize):\n",
    "        self.data = data\n",
    "        self.selectType = selectType # 1.Tournament 2.Roulette Wheel Selection\n",
    "        self.crossType = crossType # 1.Order-based; 2.2-point Crossover\n",
    "        self.mutateType = mutateType # 1.Swap; 2.Flip; 3.Slide Mutation\n",
    "        self.populationNum = populationNum # The number of population\n",
    "        self.populationSize = populationSize # Number of genes in chromesome\n",
    "        \n",
    "        self.crossRate = 0.8\n",
    "        self.mutateRate = 0.2\n",
    "        self.fitness = []\n",
    "        self.population = []\n",
    "        self.bestPath = []\n",
    "        self.shuffeGenes()\n",
    "        \n",
    "    \n",
    "    # Generate the chromesomes\n",
    "    def shuffeGenes(self):\n",
    "        for i in range(self.populationNum):\n",
    "            gene = list(range(self.populationSize))\n",
    "            np.random.shuffle(gene)\n",
    "            self.population.append(gene)\n",
    "        \n",
    "    \n",
    "    # Get the fitness of each chromesome\n",
    "    def getFitness(self):\n",
    "        fitness=[]\n",
    "        for j in range(self.populationNum):\n",
    "            fitScore = 0\n",
    "            for i in range(self.populationSize):\n",
    "                cA,cB = self.data[self.population[j][i-1]],self.data[self.population[j][i]]\n",
    "                fitScore += np.linalg.norm(np.array(cA)-np.array(cB))\n",
    "            fitness.append(fitScore)\n",
    "            \n",
    "        self.fitness = fitness\n",
    "        self.bestScore = self.population[fitness.index(min(fitness))]\n",
    "        \n",
    "    \n",
    "    def selection(self):\n",
    "        gene = []\n",
    "        population = self.population\n",
    "        fitness = self.fitness\n",
    "\n",
    "        # Tournament Selection\n",
    "        if self.selectType == 1:\n",
    "            # Random choose 2 candadtes\n",
    "            gpoint1 = random.randint(1,self.populationNum-1)\n",
    "            gpoint2 = random.randint(1,self.populationNum-1)\n",
    "            while(gpoint2 != gpoint1):\n",
    "                gpoint2 = random.randint(1,self.populationNum-1)\n",
    "\n",
    "            # Compare chromesomes\n",
    "            fit1 = fitness[gpoint1]\n",
    "            fit2 = fitness[gpoint2]\n",
    "            if (fit1>fit2): \n",
    "                gene=population[gpoint1]\n",
    "            else:\n",
    "                gene=population[gpoint2]               \n",
    "                \n",
    "        # Roulette Wheel Selection\n",
    "        elif self.selectType == 2:\n",
    "            index = 0\n",
    "            randProb = random.random()\n",
    "            \n",
    "            weight = fitness/sum(fitness) # Get each probability\n",
    "            accumulation = weight.cumsum() # Get the cumulative probability           \n",
    "            \n",
    "            for prob in accumulation:\n",
    "                if prob > randProb:\n",
    "                    gene = population[index]\n",
    "                    break\n",
    "                index += 1                    \n",
    "        else:\n",
    "            raise Exception('UNKNOW SELECTION TYPE!')\n",
    "        \n",
    "        return gene\n",
    " \n",
    "    \n",
    "    # Cross over 2 genes\n",
    "    def crossover(self,geneA,geneB):\n",
    "        gene = []\n",
    "        # Random choose 2 cut points\n",
    "        cpoint1 = random.randint(1,self.populationSize-2) \n",
    "        cpoint2 = random.randint(cpoint1+1,self.populationSize-1)\n",
    "            \n",
    "        # Order-based Crossover\n",
    "        if self.crossType == 1:\n",
    "            # Cut slices\n",
    "            keepA = geneA[cpoint1:cpoint2]\n",
    "            keepB = geneB[cpoint1:cpoint2]\n",
    "            \n",
    "            # Remainders after cut\n",
    "            pice1 = [x for x in geneA if x not in keepB]\n",
    "            pice2 = [x for x in geneB if x not in keepA]\n",
    "            \n",
    "            # Combine to new genes\n",
    "            gene1 = pice2[:cpoint1]+keepA+pice2[cpoint1:] \n",
    "            gene2 = pice1[:cpoint1]+keepB+pice1[cpoint1:]\n",
    "        \n",
    "        # 2-point Crossover\n",
    "        elif self.crossType ==2:\n",
    "            gene1 = geneA[:cpoint1]+geneB[cpoint1:cpoint2]+geneA[cpoint2:]\n",
    "            gene2 = geneB[:cpoint1]+geneA[cpoint1:cpoint2]+geneB[cpoint2:]\n",
    "        else:\n",
    "            raise Exception('UNKNOW CROSSOVER TYPE!')\n",
    "        \n",
    "        return gene1,gene2\n",
    "\n",
    "    \n",
    "    # Mutate the gene\n",
    "    def mutation(self,geneM):\n",
    "        gene = []\n",
    "        # Random choose 2 positions\n",
    "        mpoint1 = random.randint(1,self.populationSize-3)\n",
    "        mpoint2 = random.randint(mpoint1+1,self.populationSize-1)\n",
    "        midPice = geneM[mpoint1:mpoint2]\n",
    "        \n",
    "        # Swap Mutation\n",
    "        if self.mutateType == 1:\n",
    "            # Get the value of each point\n",
    "            p1 = geneM[mpoint1]\n",
    "            p2 = geneM[mpoint2]\n",
    "            \n",
    "            # Exchange 2 points\n",
    "            geneM[mpoint1] = p2\n",
    "            geneM[mpoint2] = p1\n",
    "            gene = geneM\n",
    "            \n",
    "        # Filp Mutation \n",
    "        elif self.mutateType == 2:\n",
    "            gene = geneM[:mpoint1]+list(reversed(midPice))+geneM[mpoint2:]\n",
    "            \n",
    "        # Slide Mutation\n",
    "        elif self.mutateType == 3:\n",
    "            # Choice slide point\n",
    "            sPostion = random.randint(1,len(midPice))\n",
    "            # Slide the midPice\n",
    "            slidePice = midPice[sPostion:] + midPice[:sPostion]\n",
    "            gene = geneM[:mpoint1]+slidePice+geneM[mpoint2:]\n",
    "        else:\n",
    "            raise Exception('UNKNOW MUTATION TYPE!')\n",
    "        \n",
    "        return gene\n",
    "    \n",
    "    \n",
    "    # Get the 2 elites\n",
    "    def getElite(self):\n",
    "        maxIndex = []\n",
    "        elitePopulation = []\n",
    "        fitness = self.fitness\n",
    "        \n",
    "        # Get max 2 fitness in population\n",
    "        for i in range(2):\n",
    "            maxIndex.append(fitness.index(min(fitness)))\n",
    "            fitness[fitness.index(min(fitness))]=1000000\n",
    "        maxIndex.sort()\n",
    "        \n",
    "        elitePopulation.append(self.population[maxIndex[0]])\n",
    "        elitePopulation.append(self.population[maxIndex[1]])\n",
    "\n",
    "        return elitePopulation\n",
    "    \n",
    "    \n",
    "    # The population multiply\n",
    "    def multiply(self):\n",
    "        count = 0\n",
    "        newPopulation = []\n",
    "        self.getFitness()\n",
    "        elitePopulation = self.getElite()\n",
    "\n",
    "        while (count < self.populationNum/2-1):\n",
    "            # Selection\n",
    "            geneA = self.selection()\n",
    "            geneB = self.selection()\n",
    "            # Crossover\n",
    "            if random.random() < self.crossRate:\n",
    "                geneA,geneB = self.crossover(geneA,geneB) \n",
    "\n",
    "            # Mutation    \n",
    "            if random.random() < self.mutateRate:\n",
    "                geneA = self.mutation(geneA)\n",
    "                geneB = self.mutation(geneB)\n",
    "                   \n",
    "            newPopulation.append(geneA)\n",
    "            newPopulation.append(geneB)\n",
    "            count += 1 \n",
    "            \n",
    "        self.population = newPopulation\n",
    "        self.population += elitePopulation"
   ]
  },
  {
   "cell_type": "markdown",
   "metadata": {},
   "source": [
    "# TSP Part"
   ]
  },
  {
   "cell_type": "code",
   "execution_count": 31,
   "metadata": {},
   "outputs": [],
   "source": [
    "# Set the parameters\n",
    "populationNum = 100\n",
    "populationSize = 100\n",
    "\n",
    "# Reset the GA class\n",
    "ga = GA(data=data['xy'],\n",
    "        selectType=1,\n",
    "        crossType=1,\n",
    "        mutateType=2,\n",
    "        populationNum=populationNum,\n",
    "        populationSize=populationSize)\n",
    "\n",
    "# Get distance of each path\n",
    "def getDistance(path):\n",
    "    distance = 0\n",
    "    for i in range(populationSize):\n",
    "        cA,cB = data['xy'][path[i-1]],data['xy'][path[i]]\n",
    "        distance += np.linalg.norm(np.array(cA)-np.array(cB))\n",
    "    return distance\n",
    "\n",
    "# Run TSP function    \n",
    "def runFunctions(gen):\n",
    "    distance_list=[]\n",
    "    for i in range(gen):\n",
    "        ga.multiply()\n",
    "        distance = getDistance(ga.bestScore)\n",
    "        distance_list.append(distance)\n",
    "            \n",
    "    return distance,ga.bestScore,distance_list"
   ]
  },
  {
   "cell_type": "markdown",
   "metadata": {},
   "source": [
    "# Run functions"
   ]
  },
  {
   "cell_type": "code",
   "execution_count": 32,
   "metadata": {},
   "outputs": [],
   "source": [
    "Min_Path,BestPath,distance_list=runFunctions(3000)"
   ]
  },
  {
   "cell_type": "code",
   "execution_count": 33,
   "metadata": {},
   "outputs": [
    {
     "data": {
      "text/plain": [
       "218.0571363355043"
      ]
     },
     "execution_count": 33,
     "metadata": {},
     "output_type": "execute_result"
    }
   ],
   "source": [
    "Min_Path"
   ]
  }
 ],
 "metadata": {
  "kernelspec": {
   "display_name": "Python 3",
   "language": "python",
   "name": "python3"
  },
  "language_info": {
   "codemirror_mode": {
    "name": "ipython",
    "version": 3
   },
   "file_extension": ".py",
   "mimetype": "text/x-python",
   "name": "python",
   "nbconvert_exporter": "python",
   "pygments_lexer": "ipython3",
   "version": "3.7.0"
  },
  "toc": {
   "base_numbering": 1,
   "nav_menu": {},
   "number_sections": true,
   "sideBar": true,
   "skip_h1_title": false,
   "title_cell": "Table of Contents",
   "title_sidebar": "Contents",
   "toc_cell": false,
   "toc_position": {},
   "toc_section_display": true,
   "toc_window_display": false
  }
 },
 "nbformat": 4,
 "nbformat_minor": 2
}
